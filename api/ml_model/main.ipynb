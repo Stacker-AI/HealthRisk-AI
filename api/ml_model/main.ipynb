{
 "cells": [
  {
   "cell_type": "code",
   "execution_count": 1,
   "id": "42b6c2f2",
   "metadata": {},
   "outputs": [],
   "source": [
    "from sklearn.preprocessing import MinMaxScaler\n",
    "from sklearn.tree import DecisionTreeClassifier\n",
    "from sklearn.ensemble import RandomForestClassifier\n",
    "from sklearn.linear_model import LogisticRegression\n",
    "from sklearn.model_selection import train_test_split\n",
    "from sklearn.metrics import accuracy_score, confusion_matrix, classification_report, roc_curve"
   ]
  },
  {
   "cell_type": "code",
   "execution_count": 2,
   "id": "ccf0d819",
   "metadata": {},
   "outputs": [],
   "source": [
    "import joblib\n",
    "import numpy as np \n",
    "import pandas as pd\n",
    "# import seaborn as sns\n",
    "from joblib import dump\n",
    "# import matplotlib.pyplot as plt"
   ]
  },
  {
   "cell_type": "markdown",
   "id": "bd94b8a9",
   "metadata": {},
   "source": [
    "### Function to Scale Data"
   ]
  },
  {
   "cell_type": "code",
   "execution_count": 3,
   "id": "929e789d",
   "metadata": {},
   "outputs": [],
   "source": [
    "def scale_data(columns_to_scale):\n",
    "    scaler = MinMaxScaler()\n",
    "    df[columns_to_scale] = scaler.fit_transform(df[columns_to_scale])\n",
    "    print('Data Scaled using MinMaxScaler Successfull..🫡')\n",
    "    return scaler"
   ]
  },
  {
   "cell_type": "markdown",
   "id": "fb11e3b8",
   "metadata": {},
   "source": [
    "### Function for Training Models"
   ]
  },
  {
   "cell_type": "code",
   "execution_count": 4,
   "id": "355eecc0",
   "metadata": {},
   "outputs": [],
   "source": [
    "def train_model(model_name):\n",
    "    if model_name == 'LogisticRegression':\n",
    "        model = LogisticRegression(solver='lbfgs', max_iter=1000)\n",
    "    elif model_name == 'DecisionTree':\n",
    "        model = DecisionTreeClassifier()\n",
    "    elif model_name == 'RandomForest':\n",
    "        model = RandomForestClassifier()\n",
    "    else:\n",
    "        print(\"Provide Model Name Please.\")\n",
    "        \n",
    "    model.fit(x_train, y_train)\n",
    "    pred = model.predict(x_test)\n",
    "    print(f'{model_name} Results: \\n\\n')\n",
    "    print(f'Score: {model.score(x_test, y_test)}\\n')\n",
    "    print(f'Confusion Matrix: \\n\\n {confusion_matrix(y_test, pred)}\\n')\n",
    "    print(f'Classification Report: \\n\\n {classification_report(y_test, pred)}\\n')\n",
    "    # fpr1, tpr1, thresh1 = roc_curve(y_test, pred, pos_label=1)\n",
    "    # sns.lineplot(x=fpr1, y=tpr1, color='orange', linestyle='--')\n",
    "    # plt.title(\"ROC Curve\")\n",
    "    # plt.xlabel('False Positve Rate')\n",
    "    # plt.ylabel('True Positve Rate')\n",
    "    \n",
    "    return model"
   ]
  },
  {
   "cell_type": "markdown",
   "id": "09a16973",
   "metadata": {},
   "source": [
    "### Function for Saving Models"
   ]
  },
  {
   "cell_type": "code",
   "execution_count": 84,
   "id": "73c66cc8",
   "metadata": {},
   "outputs": [],
   "source": [
    "def save_model(model_name):\n",
    "    joblib.dump(model_name, f'{model_name}.joblib')"
   ]
  },
  {
   "cell_type": "markdown",
   "id": "94ab27df",
   "metadata": {},
   "source": [
    "## Preprocessing"
   ]
  },
  {
   "cell_type": "code",
   "execution_count": 5,
   "id": "2de45d38",
   "metadata": {},
   "outputs": [],
   "source": [
    "df = pd.read_csv('heart_data.csv')\n",
    "pd.set_option('display.max_columns', 30)"
   ]
  },
  {
   "cell_type": "code",
   "execution_count": 6,
   "id": "53b3743c",
   "metadata": {
    "scrolled": true
   },
   "outputs": [
    {
     "name": "stdout",
     "output_type": "stream",
     "text": [
      "Shape of Data: (253680, 22)\n",
      "Null Values in our Dataset: 0\n"
     ]
    }
   ],
   "source": [
    "print(f\"Shape of Data: {df.shape}\")\n",
    "print(f\"Null Values in our Dataset: {df.isnull().sum().sum()}\")"
   ]
  },
  {
   "cell_type": "code",
   "execution_count": 7,
   "id": "bb2612d7",
   "metadata": {},
   "outputs": [
    {
     "data": {
      "text/plain": [
       "Index(['heartDiseaseorAttack', 'highBP', 'highChol', 'cholCheck', 'bmi',\n",
       "       'smoker', 'stroke', 'diabetes', 'physActivity', 'fruits', 'veggies',\n",
       "       'hvyAlcoholConsump', 'anyHealthcare', 'noDocbcCost', 'genHlth',\n",
       "       'mentHlth', 'physHlth', 'diffWalk', 'sex', 'age', 'education',\n",
       "       'income'],\n",
       "      dtype='object')"
      ]
     },
     "execution_count": 7,
     "metadata": {},
     "output_type": "execute_result"
    }
   ],
   "source": [
    "df.columns"
   ]
  },
  {
   "cell_type": "markdown",
   "id": "76f48ab5",
   "metadata": {},
   "source": [
    "### Scale Data"
   ]
  },
  {
   "cell_type": "code",
   "execution_count": 8,
   "id": "c122df5c",
   "metadata": {},
   "outputs": [
    {
     "name": "stdout",
     "output_type": "stream",
     "text": [
      "Data Scaled using MinMaxScaler Successfull..🫡\n"
     ]
    },
    {
     "data": {
      "text/plain": [
       "['scaler.joblib']"
      ]
     },
     "execution_count": 8,
     "metadata": {},
     "output_type": "execute_result"
    }
   ],
   "source": [
    "scaler = scale_data(['bmi', 'diabetes', 'genHlth', 'mentHlth', 'physHlth', 'age', 'education', 'income'])\n",
    "joblib.dump(scaler, 'scaler.joblib')"
   ]
  },
  {
   "cell_type": "markdown",
   "id": "6e8294c4",
   "metadata": {},
   "source": [
    "### Spliting dataset"
   ]
  },
  {
   "cell_type": "code",
   "execution_count": 9,
   "id": "6f66c51e",
   "metadata": {},
   "outputs": [],
   "source": [
    "y = df[['heartDiseaseorAttack']]\n",
    "x = df.drop(['heartDiseaseorAttack'], axis=1)\n",
    "\n",
    "x_train, x_test, y_train, y_test = train_test_split(x.values, y.values.ravel(), test_size=0.2)"
   ]
  },
  {
   "cell_type": "markdown",
   "id": "5e2e12ce",
   "metadata": {},
   "source": [
    "### LogisticRegression"
   ]
  },
  {
   "cell_type": "code",
   "execution_count": 92,
   "id": "231db3a3",
   "metadata": {},
   "outputs": [
    {
     "name": "stdout",
     "output_type": "stream",
     "text": [
      "LogisticRegression Results: \n",
      "\n",
      "\n",
      "Score: 0.9070285398927783\n",
      "\n",
      "Confusion Matrix: \n",
      "\n",
      " [[45421   510]\n",
      " [ 4207   598]]\n",
      "\n",
      "Classification Report: \n",
      "\n",
      "               precision    recall  f1-score   support\n",
      "\n",
      "           0       0.92      0.99      0.95     45931\n",
      "           1       0.54      0.12      0.20      4805\n",
      "\n",
      "    accuracy                           0.91     50736\n",
      "   macro avg       0.73      0.56      0.58     50736\n",
      "weighted avg       0.88      0.91      0.88     50736\n",
      "\n",
      "\n"
     ]
    },
    {
     "data": {
      "image/png": "[encoded data removed]",
      "text/plain": [
       "<Figure size 640x480 with 1 Axes>"
      ]
     },
     "metadata": {},
     "output_type": "display_data"
    }
   ],
   "source": [
    "lr_model = train_model('LogisticRegression')"
   ]
  },
  {
   "cell_type": "markdown",
   "id": "2c83093e",
   "metadata": {},
   "source": [
    "### Decision tree"
   ]
  },
  {
   "cell_type": "code",
   "execution_count": 11,
   "id": "4ee6b60c-2263-412b-9bb1-c5944ad84beb",
   "metadata": {},
   "outputs": [
    {
     "data": {
      "text/plain": [
       "['model.joblib']"
      ]
     },
     "execution_count": 11,
     "metadata": {},
     "output_type": "execute_result"
    }
   ],
   "source": [
    "joblib.dump(dt_model, 'model.joblib')"
   ]
  },
  {
   "cell_type": "code",
   "execution_count": 10,
   "id": "d2ab129f",
   "metadata": {},
   "outputs": [
    {
     "name": "stdout",
     "output_type": "stream",
     "text": [
      "DecisionTree Results: \n",
      "\n",
      "\n",
      "Score: 0.8508948281299274\n",
      "\n",
      "Confusion Matrix: \n",
      "\n",
      " [[41867  4143]\n",
      " [ 3422  1304]]\n",
      "\n",
      "Classification Report: \n",
      "\n",
      "               precision    recall  f1-score   support\n",
      "\n",
      "           0       0.92      0.91      0.92     46010\n",
      "           1       0.24      0.28      0.26      4726\n",
      "\n",
      "    accuracy                           0.85     50736\n",
      "   macro avg       0.58      0.59      0.59     50736\n",
      "weighted avg       0.86      0.85      0.86     50736\n",
      "\n",
      "\n"
     ]
    }
   ],
   "source": [
    "dt_model = train_model('DecisionTree')"
   ]
  },
  {
   "cell_type": "markdown",
   "id": "6726058e",
   "metadata": {},
   "source": [
    "### Random Forest"
   ]
  },
  {
   "cell_type": "code",
   "execution_count": 94,
   "id": "8e79f5a3",
   "metadata": {},
   "outputs": [
    {
     "name": "stdout",
     "output_type": "stream",
     "text": [
      "RandomForest Results: \n",
      "\n",
      "\n",
      "Score: 0.9008002207505519\n",
      "\n",
      "Confusion Matrix: \n",
      "\n",
      " [[45190   741]\n",
      " [ 4292   513]]\n",
      "\n",
      "Classification Report: \n",
      "\n",
      "               precision    recall  f1-score   support\n",
      "\n",
      "           0       0.91      0.98      0.95     45931\n",
      "           1       0.41      0.11      0.17      4805\n",
      "\n",
      "    accuracy                           0.90     50736\n",
      "   macro avg       0.66      0.55      0.56     50736\n",
      "weighted avg       0.87      0.90      0.87     50736\n",
      "\n",
      "\n"
     ]
    },
    {
     "data": {
      "image/png": "[encoded data removed]",
      "text/plain": [
       "<Figure size 640x480 with 1 Axes>"
      ]
     },
     "metadata": {},
     "output_type": "display_data"
    }
   ],
   "source": [
    "rf_model = train_model('RandomForest')\n",
    "save_model(rf_model)"
   ]
  },
  {
   "cell_type": "markdown",
   "id": "ad876000",
   "metadata": {},
   "source": [
    "## Selected Model"
   ]
  },
  {
   "cell_type": "markdown",
   "id": "8e1421b5",
   "metadata": {},
   "source": [
    "* As understanding feature importance and their impact is crucial, Random Forest could be more suitable.\n",
    "* Random Forest is more robust due to its ability to capture complex relationships."
   ]
  },
  {
   "cell_type": "markdown",
   "id": "44f004a4",
   "metadata": {},
   "source": [
    "### Testing Models"
   ]
  },
  {
   "cell_type": "code",
   "execution_count": 96,
   "id": "a7b7de97",
   "metadata": {},
   "outputs": [],
   "source": [
    "scaler = joblib.load('MinMaxScaler.joblib')"
   ]
  },
  {
   "cell_type": "code",
   "execution_count": 97,
   "id": "d9e08a12",
   "metadata": {},
   "outputs": [],
   "source": [
    "data = { \"bmi\": 26.5, \"diabetes\": 1, \"genHlth\": 4, \"mentHlth\": 10, \"physHlth\": 8, \"age\": 30, \"education\": 3, \"income\": 6 }"
   ]
  },
  {
   "cell_type": "code",
   "execution_count": 98,
   "id": "e86be430",
   "metadata": {},
   "outputs": [],
   "source": [
    "df = pd.DataFrame().from_dict([data])"
   ]
  },
  {
   "cell_type": "code",
   "execution_count": 99,
   "id": "ba9e5651",
   "metadata": {},
   "outputs": [
    {
     "data": {
      "text/html": [
       "<div>\n",
       "<style scoped>\n",
       "    .dataframe tbody tr th:only-of-type {\n",
       "        vertical-align: middle;\n",
       "    }\n",
       "\n",
       "    .dataframe tbody tr th {\n",
       "        vertical-align: top;\n",
       "    }\n",
       "\n",
       "    .dataframe thead th {\n",
       "        text-align: right;\n",
       "    }\n",
       "</style>\n",
       "<table border=\"1\" class=\"dataframe\">\n",
       "  <thead>\n",
       "    <tr style=\"text-align: right;\">\n",
       "      <th></th>\n",
       "      <th>bmi</th>\n",
       "      <th>diabetes</th>\n",
       "      <th>genHlth</th>\n",
       "      <th>mentHlth</th>\n",
       "      <th>physHlth</th>\n",
       "      <th>age</th>\n",
       "      <th>education</th>\n",
       "      <th>income</th>\n",
       "    </tr>\n",
       "  </thead>\n",
       "  <tbody>\n",
       "    <tr>\n",
       "      <th>0</th>\n",
       "      <td>26.5</td>\n",
       "      <td>1</td>\n",
       "      <td>4</td>\n",
       "      <td>10</td>\n",
       "      <td>8</td>\n",
       "      <td>30</td>\n",
       "      <td>3</td>\n",
       "      <td>6</td>\n",
       "    </tr>\n",
       "  </tbody>\n",
       "</table>\n",
       "</div>"
      ],
      "text/plain": [
       "    bmi  diabetes  genHlth  mentHlth  physHlth  age  education  income\n",
       "0  26.5         1        4        10         8   30          3       6"
      ]
     },
     "execution_count": 99,
     "metadata": {},
     "output_type": "execute_result"
    }
   ],
   "source": [
    "df"
   ]
  },
  {
   "cell_type": "code",
   "execution_count": 100,
   "id": "a945a8f2",
   "metadata": {},
   "outputs": [],
   "source": [
    "df1 = scaler.transform(df)"
   ]
  },
  {
   "cell_type": "code",
   "execution_count": 101,
   "id": "597aaf84",
   "metadata": {},
   "outputs": [
    {
     "data": {
      "text/plain": [
       "array([[0.16860465, 0.5       , 0.75      , 0.33333333, 0.26666667,\n",
       "        2.41666667, 0.4       , 0.71428571]])"
      ]
     },
     "execution_count": 101,
     "metadata": {},
     "output_type": "execute_result"
    }
   ],
   "source": [
    "df1"
   ]
  }
 ],
 "metadata": {
  "kernelspec": {
   "display_name": "Python 3 (ipykernel)",
   "language": "python",
   "name": "python3"
  },
  "language_info": {
   "codemirror_mode": {
    "name": "ipython",
    "version": 3
   },
   "file_extension": ".py",
   "mimetype": "text/x-python",
   "name": "python",
   "nbconvert_exporter": "python",
   "pygments_lexer": "ipython3",
   "version": "3.10.12"
  }
 },
 "nbformat": 4,
 "nbformat_minor": 5
}
